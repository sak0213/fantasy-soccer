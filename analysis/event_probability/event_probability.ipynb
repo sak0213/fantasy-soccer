{
 "cells": [
  {
   "cell_type": "code",
   "execution_count": null,
   "metadata": {},
   "outputs": [],
   "source": [
    "from event_probability_config import local_host, local_name, local_port, local_user, real_results_sql"
   ]
  }
 ],
 "metadata": {
  "language_info": {
   "name": "python"
  },
  "orig_nbformat": 4
 },
 "nbformat": 4,
 "nbformat_minor": 2
}
