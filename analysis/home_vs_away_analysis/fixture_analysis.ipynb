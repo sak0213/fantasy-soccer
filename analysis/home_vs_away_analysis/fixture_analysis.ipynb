{
 "cells": [
  {
   "cell_type": "code",
   "execution_count": 2,
   "metadata": {},
   "outputs": [],
   "source": [
    "import psycopg2\n",
    "from creds import local_db_password\n",
    "from fixture_analysis_config import real_results_sql, local_host, local_name, local_port, local_user\n",
    "import pandas as pd\n",
    "import numpy as np\n",
    "import matplotlib.pyplot as plt\n",
    "import warnings\n",
    "warnings.simplefilter('ignore')\n",
    "conn = psycopg2.connect(dbname=local_name, user =local_user, host=local_host, password=local_db_password, port =local_port)\n",
    "cur = conn.cursor()"
   ]
  },
  {
   "cell_type": "markdown",
   "metadata": {},
   "source": [
    "Home vs Away advantage"
   ]
  },
  {
   "cell_type": "code",
   "execution_count": null,
   "metadata": {},
   "outputs": [],
   "source": [
    "# Aggregate result perspective\n",
    "results_2023 = pd.read_sql(real_results_sql, conn)\n",
    "print(results_2023.columns)\n",
    "results_2023.describe()"
   ]
  },
  {
   "cell_type": "code",
   "execution_count": null,
   "metadata": {},
   "outputs": [],
   "source": [
    "from statsmodels.formula.api import ols\n",
    "\n",
    "def model_home_vs_away(field = None, source_df = None, debug = False):\n",
    "    home_df = source_df[[f'home_{field}']]\n",
    "    home_df =  home_df.rename(columns={f'home_{field}':field})\n",
    "    home_df['g'] = 1\n",
    "    home_df = home_df.dropna(axis=0, how='any')\n",
    "    away_df = source_df[[f'away_{field}']]\n",
    "    away_df =  away_df.rename(columns={f'away_{field}':field})\n",
    "    away_df['g'] = 0\n",
    "    away_df = away_df.dropna(axis=0, how='any')\n",
    "    reg_df = pd.concat([home_df, away_df])\n",
    "    lr = ols(f'{field} ~ g', data=reg_df).fit()\n",
    "    print(f'\\n---Results for {field}------\\n')\n",
    "    print(f'R-Suqared: {lr.rsquared}')\n",
    "    print(f'Abs Effect of Home adv: {lr.params[1]}')\n",
    "    print(f'Y_Intercept: {lr.params[0]}')\n",
    "    print(f'Average {field} for Home: {home_df[field].mean()}')\n",
    "    print(f'Average {field} for Away: {away_df[field].mean()}')\n",
    "    print(f'P-value: {lr.pvalues[1]}')\n",
    "    if debug == True:\n",
    "        print('-------------Debug-------')\n",
    "        print('--')\n",
    "        print(reg_df.head(3))\n",
    "        print('--')\n",
    "        print(reg_df.describe())"
   ]
  },
  {
   "cell_type": "code",
   "execution_count": null,
   "metadata": {},
   "outputs": [],
   "source": [
    "model_home_vs_away('goal', results_2023, True)"
   ]
  },
  {
   "cell_type": "markdown",
   "metadata": {},
   "source": [
    "Shooting"
   ]
  },
  {
   "cell_type": "code",
   "execution_count": null,
   "metadata": {},
   "outputs": [],
   "source": [
    "model_home_vs_away('goal', results_2023)\n",
    "model_home_vs_away('shot', results_2023)\n",
    "model_home_vs_away('goalie_save_rate', results_2023)"
   ]
  },
  {
   "cell_type": "markdown",
   "metadata": {},
   "source": [
    "Passing"
   ]
  },
  {
   "cell_type": "code",
   "execution_count": null,
   "metadata": {},
   "outputs": [],
   "source": [
    "model_home_vs_away('passes_attempt', results_2023)\n",
    "model_home_vs_away('pass_accuracy', results_2023)"
   ]
  },
  {
   "cell_type": "markdown",
   "metadata": {},
   "source": [
    "Dribbles"
   ]
  },
  {
   "cell_type": "code",
   "execution_count": null,
   "metadata": {},
   "outputs": [],
   "source": [
    "model_home_vs_away('dribble_attempt', results_2023)\n",
    "model_home_vs_away('dribble_success_rate', results_2023)"
   ]
  },
  {
   "cell_type": "markdown",
   "metadata": {},
   "source": [
    "Defense"
   ]
  },
  {
   "cell_type": "code",
   "execution_count": null,
   "metadata": {},
   "outputs": [],
   "source": [
    "model_home_vs_away('tackles', results_2023)\n",
    "model_home_vs_away('shot_blocks', results_2023)\n",
    "model_home_vs_away('interception_rate', results_2023)"
   ]
  }
 ],
 "metadata": {
  "kernelspec": {
   "display_name": "PythonData",
   "language": "python",
   "name": "python3"
  },
  "language_info": {
   "codemirror_mode": {
    "name": "ipython",
    "version": 3
   },
   "file_extension": ".py",
   "mimetype": "text/x-python",
   "name": "python",
   "nbconvert_exporter": "python",
   "pygments_lexer": "ipython3",
   "version": "3.9.6"
  },
  "orig_nbformat": 4
 },
 "nbformat": 4,
 "nbformat_minor": 2
}
