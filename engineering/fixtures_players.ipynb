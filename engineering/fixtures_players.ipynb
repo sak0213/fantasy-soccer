{
 "cells": [
  {
   "cell_type": "code",
   "execution_count": 1,
   "metadata": {},
   "outputs": [],
   "source": [
    "import requests\n",
    "from config import req_headers, base_url, focus_league, local_host, local_name, local_port, local_user\n",
    "from creds import local_db_password\n",
    "import psycopg2\n",
    "import time\n",
    "import json"
   ]
  },
  {
   "cell_type": "code",
   "execution_count": 2,
   "metadata": {},
   "outputs": [],
   "source": [
    "conn = psycopg2.connect(dbname=local_name, user =local_user, host=local_host, password=local_db_password, port =local_port)\n",
    "cur = conn.cursor()"
   ]
  },
  {
   "cell_type": "code",
   "execution_count": 3,
   "metadata": {},
   "outputs": [],
   "source": [
    "def get_max_id():\n",
    "    max_id_sql = 'select max(job_id) from ffl_staging.query_data'\n",
    "    cur.execute(max_id_sql)\n",
    "    if cur.fetchall()[0][0] == None:\n",
    "        return 0\n",
    "    else:\n",
    "        return cur.fetchall()[0][0] + 1"
   ]
  },
  {
   "cell_type": "code",
   "execution_count": 4,
   "metadata": {},
   "outputs": [],
   "source": [
    "endpoint = 'fixtures/players'\n",
    "url = base_url + endpoint\n",
    "season = 2024"
   ]
  },
  {
   "cell_type": "code",
   "execution_count": 5,
   "metadata": {},
   "outputs": [],
   "source": [
    "fixture_list = []\n",
    "fetch_teams_sql = f\"\"\"select id from ffl.fixtures where tracking_status = 'posted' and date < now()\"\"\"\n",
    "cur.execute(fetch_teams_sql)\n",
    "for i in cur.fetchall():\n",
    "    fixture_list.append(i[0])"
   ]
  },
  {
   "cell_type": "code",
   "execution_count": 6,
   "metadata": {},
   "outputs": [],
   "source": [
    "fixture_insert_sql = \"\"\"\n",
    "insert into ffl_staging.query_data (\n",
    "    job_id,\n",
    "    query_scope,\n",
    "    response_data,\n",
    "    status\n",
    ")\n",
    "values\n",
    "(%s,%s,%s, %s)\n",
    "on conflict do nothing\n",
    "\"\"\""
   ]
  },
  {
   "cell_type": "code",
   "execution_count": 7,
   "metadata": {},
   "outputs": [],
   "source": [
    "def parser(data=None, id_counter = None):\n",
    "    job_id = id_counter\n",
    "    query_scope = endpoint\n",
    "    response_data = data\n",
    "\n",
    "\n",
    "    return job_id, query_scope, json.dumps(response_data), 'loaded'"
   ]
  },
  {
   "cell_type": "code",
   "execution_count": 8,
   "metadata": {},
   "outputs": [],
   "source": [
    "def fetch_response(params=None):\n",
    "    req = requests.get(url, params=params, headers=req_headers)\n",
    "\n",
    "    return req.json()\n",
    "\n",
    "def load_responses(response_data=None, count_pass=None):\n",
    "    cur.execute(fixture_insert_sql, (parser(response_data, count_pass)))"
   ]
  },
  {
   "cell_type": "code",
   "execution_count": 9,
   "metadata": {},
   "outputs": [],
   "source": [
    "update_sql = \"\"\"\n",
    "update ffl.fixtures\n",
    "set tracking_status = 'player_queried'\n",
    "where id = %s\n",
    "\"\"\""
   ]
  },
  {
   "cell_type": "code",
   "execution_count": 10,
   "metadata": {},
   "outputs": [],
   "source": [
    "counter = get_max_id()\n",
    "for fixture in fixture_list:\n",
    "    call_params = {\n",
    "        'fixture':fixture\n",
    "    }\n",
    "    \n",
    "    load_responses(fetch_response(call_params), counter)\n",
    "    conn.commit()\n",
    "    counter += 1\n",
    "    cur.execute(update_sql, (fixture,))\n",
    "    conn.commit()"
   ]
  }
 ],
 "metadata": {
  "kernelspec": {
   "display_name": "PythonData",
   "language": "python",
   "name": "python3"
  },
  "language_info": {
   "codemirror_mode": {
    "name": "ipython",
    "version": 3
   },
   "file_extension": ".py",
   "mimetype": "text/x-python",
   "name": "python",
   "nbconvert_exporter": "python",
   "pygments_lexer": "ipython3",
   "version": "3.9.6"
  },
  "orig_nbformat": 4
 },
 "nbformat": 4,
 "nbformat_minor": 2
}
