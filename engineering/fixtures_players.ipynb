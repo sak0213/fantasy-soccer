{
 "cells": [
  {
   "cell_type": "code",
   "execution_count": 1,
   "metadata": {},
   "outputs": [],
   "source": [
    "import requests\n",
    "from config import req_headers, base_url, focus_league, local_host, local_name, local_port, local_user\n",
    "from creds import local_db_password\n",
    "import psycopg2\n",
    "import time\n",
    "import json"
   ]
  },
  {
   "cell_type": "code",
   "execution_count": 2,
   "metadata": {},
   "outputs": [],
   "source": [
    "conn = psycopg2.connect(dbname=local_name, user =local_user, host=local_host, password=local_db_password, port =local_port)\n",
    "cur = conn.cursor()"
   ]
  },
  {
   "cell_type": "code",
   "execution_count": 3,
   "metadata": {},
   "outputs": [],
   "source": [
    "endpoint = 'fixtures/players'\n",
    "url = base_url + endpoint\n",
    "season = 2024"
   ]
  },
  {
   "cell_type": "code",
   "execution_count": 4,
   "metadata": {},
   "outputs": [],
   "source": [
    "fixture_list = []\n",
    "fetch_teams_sql = f\"\"\"select id from ffl.fixtures where tracking_status = 'posted' and season = '{season}' and date < now()\"\"\"\n",
    "cur.execute(fetch_teams_sql)\n",
    "for i in cur.fetchall():\n",
    "    fixture_list.append(i[0])"
   ]
  },
  {
   "cell_type": "code",
   "execution_count": 5,
   "metadata": {},
   "outputs": [],
   "source": [
    "fixture_insert_sql = \"\"\"\n",
    "insert into ffl_staging.query_data (\n",
    "    job_id,\n",
    "    query_scope,\n",
    "    response_data,\n",
    "    status\n",
    ")\n",
    "values\n",
    "(%s,%s,%s, %s)\n",
    "on conflict do nothing\n",
    "\"\"\""
   ]
  },
  {
   "cell_type": "code",
   "execution_count": 6,
   "metadata": {},
   "outputs": [],
   "source": [
    "def parser(data=None, id_counter = None):\n",
    "    job_id = id_counter\n",
    "    query_scope = endpoint\n",
    "    response_data = data\n",
    "\n",
    "\n",
    "    return job_id, query_scope, json.dumps(response_data), 'loaded'"
   ]
  },
  {
   "cell_type": "code",
   "execution_count": 7,
   "metadata": {},
   "outputs": [],
   "source": [
    "def fetch_response(params=None, page = None):\n",
    "    if page == None:\n",
    "        req = requests.get(url, params=params, headers=req_headers)\n",
    "\n",
    "        return req.json()\n",
    "    else:\n",
    "        params['page'] = page\n",
    "        req = requests.get(url, params=params, headers=req_headers)\n",
    "\n",
    "        return req.json()\n",
    "\n",
    "def load_responses(response_data=None, count_pass=None):\n",
    "    cur.execute(fixture_insert_sql, (parser(response_data, count_pass)))"
   ]
  },
  {
   "cell_type": "code",
   "execution_count": 8,
   "metadata": {},
   "outputs": [],
   "source": [
    "update_sql = \"\"\"\n",
    "update ffl.fixtures\n",
    "set tracking_status = 'player_queried'\n",
    "where id = %s\n",
    "\"\"\""
   ]
  },
  {
   "cell_type": "code",
   "execution_count": 9,
   "metadata": {},
   "outputs": [
    {
     "name": "stdout",
     "output_type": "stream",
     "text": [
      "starting new fixture id 1208021\n",
      "completed fixture with 2 pages\n",
      "starting new fixture id 1208022\n",
      "completed fixture with 2 pages\n",
      "starting new fixture id 1208023\n",
      "completed fixture with 2 pages\n",
      "starting new fixture id 1208024\n",
      "completed fixture with 2 pages\n",
      "starting new fixture id 1208025\n",
      "completed fixture with 2 pages\n",
      "starting new fixture id 1208026\n",
      "completed fixture with 2 pages\n",
      "starting new fixture id 1208027\n",
      "completed fixture with 2 pages\n",
      "starting new fixture id 1208028\n",
      "completed fixture with 2 pages\n",
      "starting new fixture id 1208029\n",
      "completed fixture with 2 pages\n",
      "starting new fixture id 1208030\n",
      "completed fixture with 2 pages\n",
      "starting new fixture id 1208031\n",
      "completed fixture with 2 pages\n",
      "starting new fixture id 1208032\n",
      "completed fixture with 2 pages\n",
      "starting new fixture id 1208033\n",
      "completed fixture with 2 pages\n",
      "starting new fixture id 1208034\n",
      "completed fixture with 2 pages\n",
      "starting new fixture id 1208035\n",
      "completed fixture with 2 pages\n",
      "starting new fixture id 1208036\n",
      "completed fixture with 2 pages\n",
      "starting new fixture id 1208037\n",
      "completed fixture with 2 pages\n",
      "starting new fixture id 1208038\n",
      "completed fixture with 2 pages\n",
      "starting new fixture id 1208039\n",
      "completed fixture with 2 pages\n",
      "starting new fixture id 1208040\n",
      "completed fixture with 2 pages\n",
      "starting new fixture id 1208041\n",
      "completed fixture with 2 pages\n",
      "starting new fixture id 1208042\n",
      "completed fixture with 2 pages\n",
      "starting new fixture id 1208043\n",
      "completed fixture with 2 pages\n",
      "starting new fixture id 1208044\n",
      "completed fixture with 2 pages\n",
      "starting new fixture id 1208045\n",
      "completed fixture with 2 pages\n",
      "starting new fixture id 1208046\n",
      "completed fixture with 2 pages\n",
      "starting new fixture id 1208047\n",
      "completed fixture with 2 pages\n",
      "starting new fixture id 1208048\n",
      "completed fixture with 2 pages\n",
      "starting new fixture id 1208049\n",
      "completed fixture with 2 pages\n",
      "starting new fixture id 1208050\n",
      "completed fixture with 2 pages\n",
      "starting new fixture id 1208051\n",
      "completed fixture with 2 pages\n",
      "starting new fixture id 1208052\n",
      "completed fixture with 2 pages\n",
      "starting new fixture id 1208053\n",
      "completed fixture with 2 pages\n",
      "starting new fixture id 1208054\n",
      "completed fixture with 2 pages\n",
      "starting new fixture id 1208055\n",
      "completed fixture with 2 pages\n",
      "starting new fixture id 1208056\n",
      "completed fixture with 2 pages\n",
      "starting new fixture id 1208057\n",
      "completed fixture with 2 pages\n",
      "starting new fixture id 1208058\n",
      "completed fixture with 2 pages\n",
      "starting new fixture id 1208059\n",
      "completed fixture with 2 pages\n",
      "starting new fixture id 1208060\n",
      "completed fixture with 2 pages\n"
     ]
    }
   ],
   "source": [
    "for fixture in fixture_list:\n",
    "    # time.sleep(30)\n",
    "    print(f'starting new fixture id {fixture}')\n",
    "    call_params = {\n",
    "        'fixture':fixture\n",
    "    }\n",
    "    counter = 1\n",
    "    response = fetch_response(call_params)\n",
    "    load_responses(response, counter)\n",
    "    conn.commit()\n",
    "    paging_needed = True\n",
    "    \n",
    "    while paging_needed == True:\n",
    "        # time.sleep(6.777)\n",
    "        paging_current = response['paging']['current']\n",
    "        paging_total = response['paging']['total']\n",
    "        if paging_current == paging_total:\n",
    "            paging_needed = False\n",
    "            # print('paging not needed')\n",
    "        elif paging_current != paging_total:\n",
    "            next_page = paging_current + 1\n",
    "            response = fetch_response(call_params, next_page)\n",
    "            load_responses(response, counter)\n",
    "            conn.commit()\n",
    "        counter += 1\n",
    "            # print(f'completed paging. page #{next_page}')\n",
    "    cur.execute(update_sql, (fixture,))\n",
    "    conn.commit()\n",
    "    print(f'completed fixture with {counter} pages')"
   ]
  }
 ],
 "metadata": {
  "interpreter": {
   "hash": "11938c6bc6919ae2720b4d5011047913343b08a43b18698fd82dedb0d4417594"
  },
  "kernelspec": {
   "display_name": "Python 3.9.7 64-bit",
   "language": "python",
   "name": "python3"
  },
  "language_info": {
   "codemirror_mode": {
    "name": "ipython",
    "version": 3
   },
   "file_extension": ".py",
   "mimetype": "text/x-python",
   "name": "python",
   "nbconvert_exporter": "python",
   "pygments_lexer": "ipython3",
   "version": "3.9.7"
  },
  "orig_nbformat": 4
 },
 "nbformat": 4,
 "nbformat_minor": 2
}
