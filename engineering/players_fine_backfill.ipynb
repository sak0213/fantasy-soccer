{
 "cells": [
  {
   "cell_type": "code",
   "execution_count": 1,
   "metadata": {},
   "outputs": [],
   "source": [
    "import requests\n",
    "from config import req_headers, base_url, focus_league, local_host, local_name, local_port, local_user\n",
    "from creds import local_db_password\n",
    "import psycopg2\n",
    "import time"
   ]
  },
  {
   "cell_type": "code",
   "execution_count": 2,
   "metadata": {},
   "outputs": [],
   "source": [
    "conn = psycopg2.connect(dbname=local_name, user =local_user, host=local_host, password=local_db_password, port =local_port)\n",
    "cur = conn.cursor()"
   ]
  },
  {
   "cell_type": "code",
   "execution_count": 3,
   "metadata": {},
   "outputs": [],
   "source": [
    "endpoint = 'players'\n",
    "url = base_url + endpoint\n",
    "season = 2023"
   ]
  },
  {
   "cell_type": "code",
   "execution_count": 4,
   "metadata": {},
   "outputs": [],
   "source": [
    "player_list = []\n",
    "fetch_teams_sql = f\"\"\"select * from(\n",
    "select player_id from(\n",
    "select \n",
    "\tfixture_id,\n",
    "\tteam_id,\n",
    "\tcast(players -> 'player' -> 'id' as int) as player_id,\n",
    "\tcoalesce(cast(players -> 'statistics' -> 0 -> 'games' ->> 'minutes' as int), 0) as minutes,\n",
    "\tcoalesce(cast(players -> 'statistics' -> 0 -> 'games' ->> 'rating' as float), 0) as rating,\n",
    "\tcast(players -> 'statistics' -> 0 -> 'games' ->> 'captain' as bool) as captain,\n",
    "\tcast(players -> 'statistics' -> 0 -> 'games' ->> 'substitute' as bool) as substitute,\n",
    "\tcoalesce(cast(players -> 'statistics' -> 0 ->> 'offsides' as int), 0) as offsides,\n",
    "\tcoalesce(cast(players -> 'statistics' -> 0 -> 'shots' ->> 'total' as int), 0) as shots_total,\n",
    "\tcoalesce(cast(players -> 'statistics' -> 0 -> 'shots' ->> 'on' as int), 0) as shots_on,\n",
    "\tcoalesce(cast(players -> 'statistics' -> 0 -> 'goals' ->> 'total' as int), 0) as goals_total,\n",
    "\tcoalesce(cast(players -> 'statistics' -> 0 -> 'goals' ->> 'conceded' as int), 0) as goals_conceded,\n",
    "\tcoalesce(cast(players -> 'statistics' -> 0 -> 'goals' ->> 'assists' as int), 0) as assists,\n",
    "\tcoalesce(cast(players -> 'statistics' -> 0 -> 'goals' ->> 'saves' as int), 0) as saves,\n",
    "\tcoalesce(cast(players -> 'statistics' -> 0 -> 'passes' ->> 'total' as int), 0) as passes_total,\n",
    "\tcoalesce(cast(players -> 'statistics' -> 0 -> 'passes' ->> 'key' as int), 0) as passes_key,\n",
    "\tcoalesce(cast(players -> 'statistics' -> 0 -> 'passes' ->> 'accuracy' as int), 0) as passes_accuracy,\n",
    "\tcoalesce(cast(players -> 'statistics' -> 0 -> 'tackles' ->> 'total' as int), 0) as tackles_total,\n",
    "\tcoalesce(cast(players -> 'statistics' -> 0 -> 'tackles' ->> 'blocks' as int), 0) as blocks,\n",
    "\tcoalesce(cast(players -> 'statistics' -> 0 -> 'tackles' ->> 'interceptions' as int), 0) as interceptions,\n",
    "\tcoalesce(cast(players -> 'statistics' -> 0 -> 'dribbles' ->> 'past' as int), 0) as dribbles_past,\n",
    "\tcoalesce(cast(players -> 'statistics' -> 0 -> 'dribbles' ->> 'success' as int), 0) as dribbles_success,\n",
    "\tcoalesce(cast(players -> 'statistics' -> 0 -> 'dribbles' ->> 'attempts' as int), 0) as dribbles_attempts,\n",
    "\tcoalesce(cast(players -> 'statistics' -> 0 -> 'fouls' ->> 'drawn' as int), 0) as fouls_drawn,\n",
    "\tcoalesce(cast(players -> 'statistics' -> 0 -> 'fouls' ->> 'committed' as int), 0) as fouls_committed,\n",
    "\tcoalesce(cast(players -> 'statistics' -> 0 -> 'cards' ->> 'yellow' as int), 0) as cards_yellow,\n",
    "\tcoalesce(cast(players -> 'statistics' -> 0 -> 'cards' ->> 'red' as int), 0) as cards_red,\n",
    "\tcoalesce(cast(players -> 'statistics' -> 0 -> 'penalty' ->> 'won' as int), 0) as penalty_won,\n",
    "\tcoalesce(cast(players -> 'statistics' -> 0 -> 'penalty' ->> 'committed' as int), 0) as penalty_committed,\n",
    "\tcoalesce(cast(players -> 'statistics' -> 0 -> 'penalty' ->> 'scored' as int), 0) as penalty_scored,\n",
    "\tcoalesce(cast(players -> 'statistics' -> 0 -> 'penalty' ->> 'missed' as int), 0) as penalty_missed,\n",
    "\tcoalesce(cast(players -> 'statistics' -> 0 -> 'penalty' ->> 'saved' as int), 0) as penalty_saved,\n",
    "\tcoalesce(cast(players -> 'statistics' -> 0 -> 'duals' ->> 'won' as int), 0) as duals_won,\n",
    "\tcoalesce(cast(players -> 'statistics' -> 0 -> 'duals' ->> 'total' as int), 0) as duals_total\n",
    "from (\n",
    "\tselect \n",
    "\t\tfixture_id,\n",
    "\t\tcast(teams -> 'team' ->> 'id' as int) as team_id,\n",
    "\t\tjsonb_array_elements(teams::jsonb->'players') players\n",
    "\tfrom (\n",
    "\t\tselect \n",
    "\t\t\tcast(response_data::jsonb -> 'parameters' ->> 'fixture' as int) as fixture_id,\n",
    "\t\t\tjsonb_array_elements(response_data::jsonb->'response') teams\n",
    "\t\tfrom ffl_staging.query_data\n",
    "\t\twhere status = 'loaded' and query_scope = 'fixtures/players') a \n",
    "\t\t) b ) c\n",
    "group by player_id ) d\n",
    "where player_id not in (select id from ffl.players)\"\"\"\n",
    "cur.execute(fetch_teams_sql)\n",
    "for i in cur.fetchall():\n",
    "    player_list.append(i[0])"
   ]
  },
  {
   "cell_type": "code",
   "execution_count": 5,
   "metadata": {},
   "outputs": [],
   "source": [
    "player_insert_sql = \"\"\"\n",
    "insert into ffl.players (\n",
    "    id,\n",
    "    current_team_id,\n",
    "    season,\n",
    "    position,\n",
    "    name_first,\n",
    "    name_last,\n",
    "    name_easy,\n",
    "    height,\n",
    "    weight,\n",
    "    date_of_birth\n",
    ")\n",
    "values\n",
    "(%s,%s,%s,%s,%s,%s,%s,%s,%s,%s)\n",
    "on conflict do nothing\n",
    "\"\"\""
   ]
  },
  {
   "cell_type": "code",
   "execution_count": 6,
   "metadata": {},
   "outputs": [],
   "source": [
    "def parser(data=None):\n",
    "    player_id = int(data['player']['id'])\n",
    "    team_id = int(data['statistics'][0]['team']['id'])\n",
    "    player_season = season\n",
    "    position = data['statistics'][0]['games']['position']\n",
    "    name_first = data['player']['firstname']\n",
    "    name_last = data['player']['lastname']\n",
    "    name_easy = data['player']['name']\n",
    "    height = data['player']['height']\n",
    "    weight = data['player']['weight']\n",
    "    date_of_birth = data['player']['birth']['date']\n",
    "\n",
    "    return player_id, team_id, player_season, position, name_first, name_last, name_easy, height, weight, date_of_birth"
   ]
  },
  {
   "cell_type": "code",
   "execution_count": 7,
   "metadata": {},
   "outputs": [],
   "source": [
    "def fetch_response(params=None, page = None):\n",
    "    if page == None:\n",
    "        req = requests.get(url, params=params, headers=req_headers)\n",
    "\n",
    "        return req.json()\n",
    "    else:\n",
    "        params['page'] = page\n",
    "        req = requests.get(url, params=params, headers=req_headers)\n",
    "\n",
    "        return req.json()\n",
    "\n",
    "def load_responses(response_data=None):\n",
    "    for player in response_data['response']:\n",
    "        cur.execute(player_insert_sql, (parser(player)))\n",
    "    # conn.commit()"
   ]
  },
  {
   "cell_type": "code",
   "execution_count": 8,
   "metadata": {},
   "outputs": [
    {
     "ename": "ForeignKeyViolation",
     "evalue": "insert or update on table \"players\" violates foreign key constraint \"fk_player_team\"\nDETAIL:  Key (current_team_id)=(7747) is not present in table \"teams\".\n",
     "output_type": "error",
     "traceback": [
      "\u001b[1;31m---------------------------------------------------------------------------\u001b[0m",
      "\u001b[1;31mForeignKeyViolation\u001b[0m                       Traceback (most recent call last)",
      "\u001b[1;32mC:\\Users\\STEKIT~1\\AppData\\Local\\Temp/ipykernel_17592/932623507.py\u001b[0m in \u001b[0;36m<module>\u001b[1;34m\u001b[0m\n\u001b[0;32m      6\u001b[0m \u001b[1;33m\u001b[0m\u001b[0m\n\u001b[0;32m      7\u001b[0m     \u001b[0mresponse\u001b[0m \u001b[1;33m=\u001b[0m \u001b[0mfetch_response\u001b[0m\u001b[1;33m(\u001b[0m\u001b[0mcall_params\u001b[0m\u001b[1;33m)\u001b[0m\u001b[1;33m\u001b[0m\u001b[1;33m\u001b[0m\u001b[0m\n\u001b[1;32m----> 8\u001b[1;33m     \u001b[0mload_responses\u001b[0m\u001b[1;33m(\u001b[0m\u001b[0mresponse\u001b[0m\u001b[1;33m)\u001b[0m\u001b[1;33m\u001b[0m\u001b[1;33m\u001b[0m\u001b[0m\n\u001b[0m\u001b[0;32m      9\u001b[0m     \u001b[0mconn\u001b[0m\u001b[1;33m.\u001b[0m\u001b[0mcommit\u001b[0m\u001b[1;33m(\u001b[0m\u001b[1;33m)\u001b[0m\u001b[1;33m\u001b[0m\u001b[1;33m\u001b[0m\u001b[0m\n",
      "\u001b[1;32mC:\\Users\\STEKIT~1\\AppData\\Local\\Temp/ipykernel_17592/4026644093.py\u001b[0m in \u001b[0;36mload_responses\u001b[1;34m(response_data)\u001b[0m\n\u001b[0;32m     12\u001b[0m \u001b[1;32mdef\u001b[0m \u001b[0mload_responses\u001b[0m\u001b[1;33m(\u001b[0m\u001b[0mresponse_data\u001b[0m\u001b[1;33m=\u001b[0m\u001b[1;32mNone\u001b[0m\u001b[1;33m)\u001b[0m\u001b[1;33m:\u001b[0m\u001b[1;33m\u001b[0m\u001b[1;33m\u001b[0m\u001b[0m\n\u001b[0;32m     13\u001b[0m     \u001b[1;32mfor\u001b[0m \u001b[0mplayer\u001b[0m \u001b[1;32min\u001b[0m \u001b[0mresponse_data\u001b[0m\u001b[1;33m[\u001b[0m\u001b[1;34m'response'\u001b[0m\u001b[1;33m]\u001b[0m\u001b[1;33m:\u001b[0m\u001b[1;33m\u001b[0m\u001b[1;33m\u001b[0m\u001b[0m\n\u001b[1;32m---> 14\u001b[1;33m         \u001b[0mcur\u001b[0m\u001b[1;33m.\u001b[0m\u001b[0mexecute\u001b[0m\u001b[1;33m(\u001b[0m\u001b[0mplayer_insert_sql\u001b[0m\u001b[1;33m,\u001b[0m \u001b[1;33m(\u001b[0m\u001b[0mparser\u001b[0m\u001b[1;33m(\u001b[0m\u001b[0mplayer\u001b[0m\u001b[1;33m)\u001b[0m\u001b[1;33m)\u001b[0m\u001b[1;33m)\u001b[0m\u001b[1;33m\u001b[0m\u001b[1;33m\u001b[0m\u001b[0m\n\u001b[0m\u001b[0;32m     15\u001b[0m     \u001b[1;31m# conn.commit()\u001b[0m\u001b[1;33m\u001b[0m\u001b[1;33m\u001b[0m\u001b[0m\n",
      "\u001b[1;31mForeignKeyViolation\u001b[0m: insert or update on table \"players\" violates foreign key constraint \"fk_player_team\"\nDETAIL:  Key (current_team_id)=(7747) is not present in table \"teams\".\n"
     ]
    }
   ],
   "source": [
    "for player in player_list:\n",
    "    call_params = {\n",
    "        # 'league':focus_league,\n",
    "        'season':season,\n",
    "        'id':player}\n",
    "\n",
    "    response = fetch_response(call_params)\n",
    "    load_responses(response)\n",
    "    conn.commit()"
   ]
  },
  {
   "cell_type": "code",
   "execution_count": null,
   "metadata": {},
   "outputs": [],
   "source": [
    "response"
   ]
  }
 ],
 "metadata": {
  "interpreter": {
   "hash": "11938c6bc6919ae2720b4d5011047913343b08a43b18698fd82dedb0d4417594"
  },
  "kernelspec": {
   "display_name": "Python 3.9.7 64-bit",
   "language": "python",
   "name": "python3"
  },
  "language_info": {
   "codemirror_mode": {
    "name": "ipython",
    "version": 3
   },
   "file_extension": ".py",
   "mimetype": "text/x-python",
   "name": "python",
   "nbconvert_exporter": "python",
   "pygments_lexer": "ipython3",
   "version": "3.9.7"
  },
  "orig_nbformat": 4
 },
 "nbformat": 4,
 "nbformat_minor": 2
}
