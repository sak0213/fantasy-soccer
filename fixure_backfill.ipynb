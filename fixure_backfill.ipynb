{
 "cells": [
  {
   "cell_type": "code",
   "execution_count": 1,
   "metadata": {},
   "outputs": [],
   "source": [
    "import requests\n",
    "from config import req_headers, base_url, focus_league, local_host, local_name, local_port, local_user\n",
    "from creds import local_db_password\n",
    "import psycopg2\n",
    "import time"
   ]
  },
  {
   "cell_type": "code",
   "execution_count": 2,
   "metadata": {},
   "outputs": [],
   "source": [
    "conn = psycopg2.connect(dbname=local_name, user =local_user, host=local_host, password=local_db_password, port =local_port)\n",
    "cur = conn.cursor()"
   ]
  },
  {
   "cell_type": "code",
   "execution_count": 3,
   "metadata": {},
   "outputs": [],
   "source": [
    "endpoint = 'fixtures'\n",
    "url = base_url + endpoint\n",
    "season = 2023\n",
    "\n",
    "call_params = {\n",
    "    'league':focus_league,\n",
    "    'season': season\n",
    "}"
   ]
  },
  {
   "cell_type": "code",
   "execution_count": 4,
   "metadata": {},
   "outputs": [],
   "source": [
    "def parser(data=None):\n",
    "    id = data['fixture']['id']\n",
    "    date = data['fixture']['date'][:10]\n",
    "    # season = season\n",
    "    team_home = data['teams']['home']['id']\n",
    "    team_away = data['teams']['away']['id']\n",
    "    tracking_status = 'posted'\n",
    "    referee = data['fixture']['referee']\n",
    "    s_home = data['goals']['home']\n",
    "    s_away = data['goals']['away']\n",
    "\n",
    "    return id, date, season, team_home, team_away, tracking_status, referee, s_home, s_away"
   ]
  },
  {
   "cell_type": "code",
   "execution_count": 5,
   "metadata": {},
   "outputs": [],
   "source": [
    "req = requests.get(url,params=call_params, headers=req_headers)\n",
    "\n",
    "response = req.json()['response']"
   ]
  },
  {
   "cell_type": "code",
   "execution_count": 6,
   "metadata": {},
   "outputs": [],
   "source": [
    "sql = \"\"\"\n",
    "insert into ffl.fixtures values (%s, %s, %s, %s, %s, %s, %s, %s, %s) on conflict do nothing\n",
    "\"\"\""
   ]
  },
  {
   "cell_type": "code",
   "execution_count": 7,
   "metadata": {},
   "outputs": [],
   "source": [
    "for row in response:\n",
    "    cur.execute(sql, parser(row))\n",
    "conn.commit()"
   ]
  }
 ],
 "metadata": {
  "interpreter": {
   "hash": "11938c6bc6919ae2720b4d5011047913343b08a43b18698fd82dedb0d4417594"
  },
  "kernelspec": {
   "display_name": "Python 3.9.7 64-bit",
   "language": "python",
   "name": "python3"
  },
  "language_info": {
   "codemirror_mode": {
    "name": "ipython",
    "version": 3
   },
   "file_extension": ".py",
   "mimetype": "text/x-python",
   "name": "python",
   "nbconvert_exporter": "python",
   "pygments_lexer": "ipython3",
   "version": "3.9.7"
  },
  "orig_nbformat": 4
 },
 "nbformat": 4,
 "nbformat_minor": 2
}
