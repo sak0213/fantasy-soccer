{
 "cells": [
  {
   "cell_type": "code",
   "execution_count": 1,
   "metadata": {},
   "outputs": [],
   "source": [
    "import requests\n",
    "from config import req_headers, base_url, focus_league, local_host, local_name, local_port, local_user\n",
    "from creds import local_db_password\n",
    "import psycopg2\n",
    "import time"
   ]
  },
  {
   "cell_type": "code",
   "execution_count": 2,
   "metadata": {},
   "outputs": [],
   "source": [
    "conn = psycopg2.connect(dbname=local_name, user =local_user, host=local_host, password=local_db_password, port =local_port)\n",
    "cur = conn.cursor()"
   ]
  },
  {
   "cell_type": "code",
   "execution_count": 3,
   "metadata": {},
   "outputs": [],
   "source": [
    "endpoint = 'players'\n",
    "url = base_url + endpoint\n",
    "season = 2023"
   ]
  },
  {
   "cell_type": "code",
   "execution_count": 4,
   "metadata": {},
   "outputs": [],
   "source": [
    "team_list = []\n",
    "fetch_teams_sql = \"\"\"select id from ffl.teams\"\"\"\n",
    "cur.execute(fetch_teams_sql)\n",
    "for i in cur.fetchall():\n",
    "    team_list.append(i[0])"
   ]
  },
  {
   "cell_type": "code",
   "execution_count": 5,
   "metadata": {},
   "outputs": [],
   "source": [
    "player_insert_sql = \"\"\"\n",
    "insert into ffl.players (\n",
    "    id,\n",
    "    current_team_id,\n",
    "    season,\n",
    "    position,\n",
    "    name_first,\n",
    "    name_last,\n",
    "    name_easy,\n",
    "    height,\n",
    "    weight,\n",
    "    date_of_birth\n",
    ")\n",
    "values\n",
    "(%s,%s,%s,%s,%s,%s,%s,%s,%s,%s)\n",
    "on conflict do nothing\n",
    "\"\"\""
   ]
  },
  {
   "cell_type": "code",
   "execution_count": 6,
   "metadata": {},
   "outputs": [],
   "source": [
    "def parser(data=None):\n",
    "    player_id = int(data['player']['id'])\n",
    "    team_id = int(data['statistics'][0]['team']['id'])\n",
    "    player_season = season\n",
    "    position = data['statistics'][0]['games']['position']\n",
    "    name_first = data['player']['firstname']\n",
    "    name_last = data['player']['lastname']\n",
    "    name_easy = data['player']['name']\n",
    "    height = data['player']['height']\n",
    "    weight = data['player']['weight']\n",
    "    date_of_birth = data['player']['birth']['date']\n",
    "\n",
    "    return player_id, team_id, player_season, position, name_first, name_last, name_easy, height, weight, date_of_birth"
   ]
  },
  {
   "cell_type": "code",
   "execution_count": 7,
   "metadata": {},
   "outputs": [],
   "source": [
    "def fetch_response(params=None, page = None):\n",
    "    if page == None:\n",
    "        req = requests.get(url, params=params, headers=req_headers)\n",
    "\n",
    "        return req.json()\n",
    "    else:\n",
    "        params['page'] = page\n",
    "        req = requests.get(url, params=params, headers=req_headers)\n",
    "\n",
    "        return req.json()\n",
    "\n",
    "def load_responses(response_data=None):\n",
    "    for player in response_data['response']:\n",
    "        cur.execute(player_insert_sql, (parser(player)))\n",
    "    # conn.commit()"
   ]
  },
  {
   "cell_type": "code",
   "execution_count": 8,
   "metadata": {},
   "outputs": [
    {
     "name": "stdout",
     "output_type": "stream",
     "text": [
      "starting new team team id 33\n",
      "completed paging. page #2\n",
      "completed paging. page #3\n",
      "completed paging. page #4\n",
      "paging not needed\n",
      "starting new team team id 34\n",
      "completed paging. page #2\n",
      "completed paging. page #3\n",
      "paging not needed\n",
      "starting new team team id 35\n",
      "completed paging. page #2\n",
      "completed paging. page #3\n",
      "paging not needed\n",
      "starting new team team id 36\n",
      "paging not needed\n",
      "starting new team team id 39\n",
      "paging not needed\n",
      "starting new team team id 40\n",
      "paging not needed\n",
      "starting new team team id 42\n",
      "paging not needed\n",
      "starting new team team id 44\n",
      "paging not needed\n",
      "starting new team team id 45\n",
      "paging not needed\n",
      "starting new team team id 47\n",
      "paging not needed\n",
      "starting new team team id 48\n",
      "paging not needed\n",
      "starting new team team id 49\n",
      "paging not needed\n",
      "starting new team team id 50\n",
      "paging not needed\n",
      "starting new team team id 51\n",
      "paging not needed\n",
      "starting new team team id 52\n",
      "paging not needed\n",
      "starting new team team id 55\n",
      "paging not needed\n",
      "starting new team team id 62\n",
      "paging not needed\n",
      "starting new team team id 65\n",
      "paging not needed\n",
      "starting new team team id 66\n",
      "paging not needed\n",
      "starting new team team id 1359\n",
      "paging not needed\n"
     ]
    }
   ],
   "source": [
    "for team in team_list:\n",
    "    time.sleep(30)\n",
    "    # print(f'starting new team team id {team}')\n",
    "    call_params = {\n",
    "    'league':focus_league,\n",
    "    'season':season,\n",
    "    'team':team\n",
    "    }\n",
    "\n",
    "    response = fetch_response(call_params)\n",
    "    load_responses(response)\n",
    "    conn.commit()\n",
    "    paging_needed = True\n",
    "    while paging_needed == True:\n",
    "        paging_current = response['paging']['current']\n",
    "        paging_total = response['paging']['total']\n",
    "        if paging_current == paging_total:\n",
    "            paging_needed = False\n",
    "            # print('paging not needed')\n",
    "        elif paging_current != paging_total:\n",
    "            next_page = paging_current + 1\n",
    "            response = fetch_response(call_params, next_page)\n",
    "            load_responses(response)\n",
    "            conn.commit()\n",
    "            # print(f'completed paging. page #{next_page}')"
   ]
  }
 ],
 "metadata": {
  "interpreter": {
   "hash": "11938c6bc6919ae2720b4d5011047913343b08a43b18698fd82dedb0d4417594"
  },
  "kernelspec": {
   "display_name": "Python 3.9.7 64-bit",
   "language": "python",
   "name": "python3"
  },
  "language_info": {
   "codemirror_mode": {
    "name": "ipython",
    "version": 3
   },
   "file_extension": ".py",
   "mimetype": "text/x-python",
   "name": "python",
   "nbconvert_exporter": "python",
   "pygments_lexer": "ipython3",
   "version": "3.9.7"
  },
  "orig_nbformat": 4
 },
 "nbformat": 4,
 "nbformat_minor": 2
}
