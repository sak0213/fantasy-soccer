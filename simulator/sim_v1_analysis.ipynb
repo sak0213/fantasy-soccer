{
 "cells": [
  {
   "cell_type": "code",
   "execution_count": 1,
   "metadata": {},
   "outputs": [],
   "source": [
    "import psycopg2\n",
    "from config import local_host, local_name, local_port, local_user\n",
    "from creds import local_db_password\n",
    "import pandas as pd\n",
    "import numpy as np\n",
    "import matplotlib.pyplot as plt\n",
    "import warnings\n",
    "import time\n",
    "\n",
    "from sim_v1 import simulate\n",
    "\n",
    "warnings.simplefilter('ignore')\n",
    "conn = psycopg2.connect(dbname=local_name, user =local_user, host=local_host, password=local_db_password, port =local_port)\n",
    "cur = conn.cursor()"
   ]
  },
  {
   "cell_type": "code",
   "execution_count": 2,
   "metadata": {},
   "outputs": [],
   "source": [
    "def check_roll_params(setup=None, param_name='rolling_params'):\n",
    "    total = 0\n",
    "    for key in setup[param_name]:\n",
    "        total += setup[param_name][key]\n",
    "    print(total)"
   ]
  },
  {
   "cell_type": "code",
   "execution_count": 3,
   "metadata": {},
   "outputs": [],
   "source": [
    "real_results_sql = \"\"\"\n",
    "\n",
    "select \n",
    "\tfixture_id,\n",
    "\tmax(team_id) filter (where team_id = team_home) as team_home,\n",
    "\tmax(team_id) filter (where team_id = team_away) as team_away,\n",
    "\tmax(goals_total) filter (where team_id = team_home) as home_goal,\n",
    "\tmax(goals_total) filter (where team_id = team_away) as away_goal,\n",
    "\tmax(shots_total) filter (where team_id = team_home) as home_shot,\n",
    "\tmax(shots_total) filter (where team_id = team_away) as away_shot,\n",
    "\tmax(passes_total) filter (where team_id = team_home) as home_passes,\n",
    "\tmax(passes_total) filter (where team_id = team_away) as away_passes,\n",
    "\tmax(dribbles_total) filter (where team_id = team_home) as home_dribble,\n",
    "\tmax(dribbles_total) filter (where team_id = team_away) as away_dribble\n",
    "\t\n",
    "from (\n",
    "select\n",
    "\tfixture_id,\n",
    "\tteam_id,\n",
    "\tsum(goals_total::int) as goals_total,\n",
    "\tsum(shots_total::int) as shots_total,\n",
    "\tsum(passes_total::int) as passes_total,\n",
    "\tsum(tackles_total::int) as total_tackles,\n",
    "\tsum(interceptions::int) as interceptions,\n",
    "\tsum(blocks::int) as blocks,\n",
    "\tsum(dribbles_attempted::int) as dribbles_total\n",
    "from ffl.fixture_player_performance\n",
    "group by fixture_id, team_id) a\n",
    "left join ffl.fixtures as fix on fix.id = fixture_id\n",
    "group by 1\n",
    "\"\"\"\n",
    "\n"
   ]
  },
  {
   "cell_type": "code",
   "execution_count": 4,
   "metadata": {},
   "outputs": [],
   "source": [
    "fixtures_sql = \"\"\"\n",
    "select id, score_home, score_away from ffl.fixtures\n",
    "\"\"\"\n",
    "fixtures_list = []\n",
    "cur.execute(fixtures_sql)\n",
    "for fix in cur.fetchall():\n",
    "    fixtures_list.append(fix[0])"
   ]
  },
  {
   "cell_type": "code",
   "execution_count": 5,
   "metadata": {},
   "outputs": [],
   "source": [
    "def confusion_matrix(true_results=None, pred_results=None):\n",
    "    pred_win_true_win = 0\n",
    "    pred_win_true_loss = 0\n",
    "    pred_win_true_tie = 0\n",
    "    pred_loss_true_win = 0\n",
    "    pred_loss_true_loss = 0\n",
    "    pred_loss_true_tie = 0\n",
    "    pred_tie_true_win = 0\n",
    "    pred_tie_true_loss = 0\n",
    "    pred_tie_true_tie = 0\n",
    "    \n",
    "\n",
    "    for row in range(len(true_results)):\n",
    "        if pred_results.iloc[row]['home_goal'] > pred_results.iloc[row]['away_goal'] and true_results.iloc[row]['home_goal'] > true_results.iloc[row]['away_goal']:\n",
    "            pred_win_true_win += 1\n",
    "        elif pred_results.iloc[row]['home_goal'] > pred_results.iloc[row]['away_goal'] and true_results.iloc[row]['home_goal'] < true_results.iloc[row]['away_goal']:\n",
    "            pred_win_true_loss += 1.\n",
    "        elif pred_results.iloc[row]['home_goal'] > pred_results.iloc[row]['away_goal'] and true_results.iloc[row]['home_goal'] == true_results.iloc[row]['away_goal']:\n",
    "            pred_win_true_tie += 1\n",
    "        elif pred_results.iloc[row]['home_goal'] < pred_results.iloc[row]['away_goal'] and true_results.iloc[row]['home_goal'] > true_results.iloc[row]['away_goal']:\n",
    "            pred_loss_true_win += 1\n",
    "        elif pred_results.iloc[row]['home_goal'] < pred_results.iloc[row]['away_goal'] and true_results.iloc[row]['home_goal'] < true_results.iloc[row]['away_goal']:\n",
    "            pred_loss_true_loss += 1\n",
    "        elif pred_results.iloc[row]['home_goal'] < pred_results.iloc[row]['away_goal'] and true_results.iloc[row]['home_goal'] == true_results.iloc[row]['away_goal']:\n",
    "            pred_loss_true_tie += 1\n",
    "        elif pred_results.iloc[row]['home_goal'] == pred_results.iloc[row]['away_goal'] and true_results.iloc[row]['home_goal'] > true_results.iloc[row]['away_goal']:\n",
    "            pred_tie_true_win += 1\n",
    "        elif pred_results.iloc[row]['home_goal'] == pred_results.iloc[row]['away_goal'] and true_results.iloc[row]['home_goal'] < true_results.iloc[row]['away_goal']:\n",
    "            pred_tie_true_loss += 1.\n",
    "        elif pred_results.iloc[row]['home_goal'] == pred_results.iloc[row]['away_goal'] and true_results.iloc[row]['home_goal'] == true_results.iloc[row]['away_goal']:\n",
    "            pred_tie_true_tie += 1\n",
    "        \n",
    "\n",
    "    confusion_matrix_df = pd.DataFrame({\n",
    "        'labels':['True Win', 'True Loss', 'True_Tie'],\n",
    "        'Pred Wins':[pred_win_true_win, pred_win_true_loss, pred_win_true_tie],\n",
    "        'Pred Loss':[pred_loss_true_win, pred_loss_true_loss, pred_loss_true_tie],\n",
    "        'Pred Ties':[pred_tie_true_win, pred_tie_true_loss, pred_tie_true_tie]\n",
    "    })\n",
    "    print(f'Total Accuracy:   {(pred_win_true_win + pred_loss_true_loss + pred_tie_true_tie) / len(true_results)}')\n",
    "    print(f'Win Analysis:     Accuracy: {pred_win_true_win/(pred_win_true_win + pred_win_true_loss + pred_win_true_tie)}     ||     Recall: {pred_win_true_win / (pred_win_true_win + pred_loss_true_win + pred_tie_true_win)}')\n",
    "    print(f'Loss Analysis:     Accuracy: {pred_loss_true_loss/(pred_loss_true_win + pred_loss_true_win + pred_loss_true_tie)}     ||     Recall: {pred_loss_true_loss / (pred_win_true_loss + pred_loss_true_loss + pred_tie_true_loss)}')\n",
    "    if pred_tie_true_loss + pred_tie_true_loss + pred_tie_true_tie > 0:\n",
    "        print(f'Tie Analysis:     Accuracy: {pred_tie_true_win/(pred_win_true_tie + pred_loss_true_tie + pred_tie_true_tie)}     ||     Recall: {pred_tie_true_win / (pred_tie_true_win + pred_tie_true_loss + pred_tie_true_tie)}')\n",
    "    print(confusion_matrix_df.head())\n",
    "        "
   ]
  },
  {
   "cell_type": "code",
   "execution_count": 6,
   "metadata": {},
   "outputs": [
    {
     "name": "stdout",
     "output_type": "stream",
     "text": [
      "1.0\n"
     ]
    }
   ],
   "source": [
    "simulation_iterations = 1000\n",
    "\n",
    "setup_json = {\n",
    "    'team_home':None,\n",
    "    'team_away':None,\n",
    "    'minutes': 90,\n",
    "    'ticks_per_minute': 15,\n",
    "    'rolling_params' : {\n",
    "        'keep': 0.1,\n",
    "        'defence_initiation': 0.06,\n",
    "        'pass': 0.78,\n",
    "        'shoot':0.02,\n",
    "        'dribble': 0.04\n",
    "    },\n",
    "    'home_advantage':0.1, #plus or minus this percent\n",
    "    'mod_mode' : False,\n",
    "    'shooting_accuracy_mod': -0.1, #changes performance by this amount\n",
    "    'goalie_accuracy_mod': 0.1 #changes performance by this amount\n",
    "}\n",
    "check_roll_params(setup_json)"
   ]
  },
  {
   "cell_type": "code",
   "execution_count": 7,
   "metadata": {},
   "outputs": [],
   "source": [
    "# output_df = pd.DataFrame(columns=['fixture', 'team_home','team_away', 'home_goal', 'away_goal', 'home_shot', 'away_shot', 'home_pass', 'away_pass', 'home_dribble', 'away_dribble'])\n",
    "# total_time = 0\n",
    "# for fix in fixtures_list:\n",
    "#     time_start = time.time()\n",
    "#     output_df.loc[len(output_df)] = simulate(fix, setup_json, simulation_iterations)\n",
    "#     total_time += time.time() - time_start\n",
    "\n",
    "# output_df = output_df.sort_values('fixture', ascending=True)\n",
    "# output_df = output_df.reset_index()\n",
    "# output_df = output_df.drop(['index'], axis=1)\n",
    "real_results_df = pd.read_sql(real_results_sql, conn)\n",
    "# # confusion_matrix(real_results_df, output_df)\n",
    "# print(f'Fixture list iteration time {total_time}')"
   ]
  },
  {
   "cell_type": "code",
   "execution_count": 8,
   "metadata": {},
   "outputs": [],
   "source": [
    "fixture_id = 1035429"
   ]
  },
  {
   "cell_type": "code",
   "execution_count": 9,
   "metadata": {},
   "outputs": [],
   "source": [
    "test_df = simulate(fixture_id, setup_json, simulation_iterations, 'individual')"
   ]
  },
  {
   "cell_type": "code",
   "execution_count": 10,
   "metadata": {},
   "outputs": [
    {
     "data": {
      "text/html": [
       "<div>\n",
       "<style scoped>\n",
       "    .dataframe tbody tr th:only-of-type {\n",
       "        vertical-align: middle;\n",
       "    }\n",
       "\n",
       "    .dataframe tbody tr th {\n",
       "        vertical-align: top;\n",
       "    }\n",
       "\n",
       "    .dataframe thead th {\n",
       "        text-align: right;\n",
       "    }\n",
       "</style>\n",
       "<table border=\"1\" class=\"dataframe\">\n",
       "  <thead>\n",
       "    <tr style=\"text-align: right;\">\n",
       "      <th></th>\n",
       "      <th>fixture_id</th>\n",
       "      <th>team_home</th>\n",
       "      <th>team_away</th>\n",
       "      <th>home_goal</th>\n",
       "      <th>away_goal</th>\n",
       "      <th>home_shot</th>\n",
       "      <th>away_shot</th>\n",
       "      <th>home_passes</th>\n",
       "      <th>away_passes</th>\n",
       "      <th>home_dribble</th>\n",
       "      <th>away_dribble</th>\n",
       "    </tr>\n",
       "  </thead>\n",
       "  <tbody>\n",
       "    <tr>\n",
       "      <th>255</th>\n",
       "      <td>1035429</td>\n",
       "      <td>52</td>\n",
       "      <td>44</td>\n",
       "      <td>3</td>\n",
       "      <td>0</td>\n",
       "      <td>12</td>\n",
       "      <td>1</td>\n",
       "      <td>477</td>\n",
       "      <td>393</td>\n",
       "      <td>13</td>\n",
       "      <td>14</td>\n",
       "    </tr>\n",
       "  </tbody>\n",
       "</table>\n",
       "</div>"
      ],
      "text/plain": [
       "     fixture_id  team_home  team_away  home_goal  away_goal  home_shot  \\\n",
       "255     1035429         52         44          3          0         12   \n",
       "\n",
       "     away_shot  home_passes  away_passes  home_dribble  away_dribble  \n",
       "255          1          477          393            13            14  "
      ]
     },
     "execution_count": 10,
     "metadata": {},
     "output_type": "execute_result"
    }
   ],
   "source": [
    "row = real_results_df.loc[real_results_df['fixture_id']==fixture_id]\n",
    "actual_diff = row['home_goal'] - row['away_goal']\n",
    "row"
   ]
  },
  {
   "cell_type": "code",
   "execution_count": 11,
   "metadata": {},
   "outputs": [
    {
     "data": {
      "image/png": "[encoded data removed]",
      "text/plain": [
       "<Figure size 432x288 with 1 Axes>"
      ]
     },
     "metadata": {
      "needs_background": "light"
     },
     "output_type": "display_data"
    }
   ],
   "source": [
    "buckets = [x + 1 for x in range(-8,7)]\n",
    "q1, median, q3 = np.quantile(test_df['home_goal'] - test_df['away_goal'], [0.25, 0.5, 0.75])\n",
    "plt.hist(test_df['home_goal'] - test_df['away_goal'], bins=buckets)\n",
    "plt.axvline(q1, color='red', linestyle='dashed', linewidth=1, label='Q1')\n",
    "plt.axvline(median, color='green', linestyle='solid', linewidth=2, label='Median')\n",
    "plt.axvline(q3, color='orange', linestyle='dashed', linewidth=1, label='Q3')\n",
    "plt.axvline(actual_diff.values[0], color='black', linestyle='solid', linewidth=2, label='Q3')\n",
    "\n",
    "\n",
    "plt.show()"
   ]
  }
 ],
 "metadata": {
  "interpreter": {
   "hash": "11938c6bc6919ae2720b4d5011047913343b08a43b18698fd82dedb0d4417594"
  },
  "kernelspec": {
   "display_name": "Python 3.9.7 64-bit",
   "language": "python",
   "name": "python3"
  },
  "language_info": {
   "codemirror_mode": {
    "name": "ipython",
    "version": 3
   },
   "file_extension": ".py",
   "mimetype": "text/x-python",
   "name": "python",
   "nbconvert_exporter": "python",
   "pygments_lexer": "ipython3",
   "version": "3.9.7"
  },
  "orig_nbformat": 4
 },
 "nbformat": 4,
 "nbformat_minor": 2
}
