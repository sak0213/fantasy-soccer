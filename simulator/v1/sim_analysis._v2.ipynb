{
 "cells": [
  {
   "cell_type": "code",
   "execution_count": 1,
   "metadata": {},
   "outputs": [],
   "source": [
    "import psycopg2\n",
    "from sim_v1analysis_v2_config import local_host, local_name, local_port, local_user, v1_setup_json, simulation_iterations, real_results_sql\n",
    "from creds import local_db_password\n",
    "import pandas as pd\n",
    "import numpy as np\n",
    "import matplotlib.pyplot as plt\n",
    "import warnings\n",
    "import time\n",
    "\n",
    "from sim_v1 import simulate\n",
    "\n",
    "warnings.simplefilter('ignore')\n",
    "conn = psycopg2.connect(dbname=local_name, user =local_user, host=local_host, password=local_db_password, port =local_port)\n",
    "cur = conn.cursor()\n",
    "\n",
    "fixture_id = 1035429\n"
   ]
  },
  {
   "cell_type": "code",
   "execution_count": 2,
   "metadata": {},
   "outputs": [],
   "source": [
    "real_results_df = pd.read_sql(real_results_sql, conn)"
   ]
  },
  {
   "cell_type": "code",
   "execution_count": 3,
   "metadata": {},
   "outputs": [],
   "source": [
    "def plot_results(real_df = None, fix_id=None):\n",
    "    sim_df = simulate(fix_id, v1_setup_json, simulation_iterations, 'individual')\n",
    "    row = real_df.loc[real_df['fixture_id']==fix_id]\n",
    "    actual_diff = row['home_goal'] - row['away_goal']\n",
    "\n",
    "\n",
    "    buckets = [x + 1 for x in range(-8,7)]\n",
    "    q1, median, q3 = np.quantile(sim_df['home_goal'] - sim_df['away_goal'], [0.25, 0.5, 0.75])\n",
    "    plt.hist(sim_df['home_goal'] - sim_df['away_goal'], bins=buckets)\n",
    "    plt.axvline(q1, color='red', linestyle='dashed', linewidth=1, label='Q1')\n",
    "    plt.axvline(median, color='green', linestyle='solid', linewidth=2, label='Median')\n",
    "    plt.axvline(q3, color='orange', linestyle='dashed', linewidth=1, label='Q3')\n",
    "    plt.axvline(actual_diff.values[0], color='black', linestyle='solid', linewidth=2, label='Q3')\n",
    "\n",
    "\n",
    "    plt.show()\n"
   ]
  },
  {
   "cell_type": "code",
   "execution_count": 4,
   "metadata": {},
   "outputs": [
    {
     "data": {
      "image/png": "[encoded data removed]",
      "text/plain": [
       "<Figure size 432x288 with 1 Axes>"
      ]
     },
     "metadata": {
      "needs_background": "light"
     },
     "output_type": "display_data"
    }
   ],
   "source": [
    "plot_results(real_results_df, 1035429)"
   ]
  },
  {
   "cell_type": "code",
   "execution_count": 5,
   "metadata": {},
   "outputs": [
    {
     "data": {
      "image/png": "[encoded data removed]",
      "text/plain": [
       "<Figure size 432x288 with 1 Axes>"
      ]
     },
     "metadata": {
      "needs_background": "light"
     },
     "output_type": "display_data"
    }
   ],
   "source": [
    "plot_results(real_results_df, 1035138)"
   ]
  }
 ],
 "metadata": {
  "interpreter": {
   "hash": "11938c6bc6919ae2720b4d5011047913343b08a43b18698fd82dedb0d4417594"
  },
  "kernelspec": {
   "display_name": "Python 3.9.7 64-bit",
   "language": "python",
   "name": "python3"
  },
  "language_info": {
   "codemirror_mode": {
    "name": "ipython",
    "version": 3
   },
   "file_extension": ".py",
   "mimetype": "text/x-python",
   "name": "python",
   "nbconvert_exporter": "python",
   "pygments_lexer": "ipython3",
   "version": "3.9.7"
  },
  "orig_nbformat": 4
 },
 "nbformat": 4,
 "nbformat_minor": 2
}
