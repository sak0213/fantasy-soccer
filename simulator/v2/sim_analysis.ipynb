{
 "cells": [
  {
   "cell_type": "code",
   "execution_count": 1,
   "metadata": {},
   "outputs": [],
   "source": [
    "import pandas as pd\n",
    "from sim_classes import TeamStatGen, TeamProfile, GameManager\n",
    "from config import game_setup\n",
    "import matplotlib.pyplot as plt"
   ]
  },
  {
   "cell_type": "code",
   "execution_count": 4,
   "metadata": {},
   "outputs": [],
   "source": [
    "def aggregate_results(df):\n",
    "    home_win = 0\n",
    "    away_win = 0\n",
    "    tie_game = 0\n",
    "    for index, row in df.iterrows():\n",
    "        if row['home_score'] > row['away_score']:\n",
    "            home_win += 1\n",
    "        elif row['home_score'] < row['away_score']:\n",
    "            away_win += 1\n",
    "        else:\n",
    "            tie_game += 1\n",
    "\n",
    "    print(f'Home win: {home_win / len(df) * 100}%')\n",
    "    print(f'Away win: {away_win / len(df) * 100}%')\n",
    "    print(f'Tie game: {tie_game / len(df) * 100}%')\n",
    "\n",
    "def analyze_game(f = 1035509, sim_count = 50):\n",
    "    team_stats = TeamStatGen(f)\n",
    "    home_team = TeamProfile(team_stats.configure_team_stats('home'))\n",
    "    away_team = TeamProfile(team_stats.configure_team_stats('away'))\n",
    "    result_df = pd.DataFrame(columns=['home_score', 'away_score'])\n",
    "\n",
    "    for i in range(sim_count):\n",
    "        game = GameManager(home_team, away_team, game_setup)\n",
    "        result_df.loc[len(result_df)] = game.run_game('scores') #type: ignore\n",
    "\n",
    "    pivot_table = result_df.pivot_table(index='home_score', columns='away_score', aggfunc='size')\n",
    "    plt.imshow(pivot_table, cmap='viridis', interpolation='nearest')  # Adjust cmap and interpolation as needed\n",
    "    plt.xlabel('Away')\n",
    "    plt.ylabel('Home')\n",
    "    plt.colorbar(label='Goals')\n",
    "    for i in range(len(pivot_table.index)):\n",
    "        for j in range(len(pivot_table.columns)):\n",
    "            plt.text(j, i, f'{pivot_table.values[i, j] / len(result_df) *100:0.0f}%',\n",
    "                    ha=\"center\", va=\"center\", color=\"white\")\n",
    "\n",
    "\n",
    "    plt.show()\n",
    "    aggregate_results(result_df)"
   ]
  },
  {
   "cell_type": "code",
   "execution_count": 8,
   "metadata": {},
   "outputs": [
    {
     "data": {
      "image/png": "[encoded data removed]",
      "text/plain": [
       "<Figure size 432x288 with 2 Axes>"
      ]
     },
     "metadata": {
      "needs_background": "light"
     },
     "output_type": "display_data"
    },
    {
     "name": "stdout",
     "output_type": "stream",
     "text": [
      "Home win: 71.0%\n",
      "Away win: 13.0%\n",
      "Tie game: 16.0%\n"
     ]
    }
   ],
   "source": [
    "analyze_game(1035397, 100)"
   ]
  }
 ],
 "metadata": {
  "kernelspec": {
   "display_name": "PythonData",
   "language": "python",
   "name": "python3"
  },
  "language_info": {
   "codemirror_mode": {
    "name": "ipython",
    "version": 3
   },
   "file_extension": ".py",
   "mimetype": "text/x-python",
   "name": "python",
   "nbconvert_exporter": "python",
   "pygments_lexer": "ipython3",
   "version": "3.9.6"
  }
 },
 "nbformat": 4,
 "nbformat_minor": 2
}
